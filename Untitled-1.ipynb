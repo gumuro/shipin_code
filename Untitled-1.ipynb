{
 "cells": [
  {
   "cell_type": "code",
   "execution_count": 1,
   "metadata": {},
   "outputs": [
    {
     "name": "stdout",
     "output_type": "stream",
     "text": [
      "第一章：入门 已加密并保存为 C:/test/shipin/encoded/chapter1.dat\n",
      "第二章：进阶 已加密并保存为 C:/test/shipin/encoded/chapter2.dat\n",
      "第三章：高级 已加密并保存为 C:/test/shipin/encoded/chapter3.dat\n",
      "第四章：专业技巧 已加密并保存为 C:/test/shipin/encoded/chapter4.dat\n",
      "第五章：实战 已加密并保存为 C:/test/shipin/encoded/chapter5.dat\n",
      "第六章：常见错误 已加密并保存为 C:/test/shipin/encoded/chapter6.dat\n",
      "第七章：复习 已加密并保存为 C:/test/shipin/encoded/chapter7.dat\n",
      "专门用语 已加密并保存为 C:/test/shipin/encoded/chapter8.dat\n"
     ]
    }
   ],
   "source": [
    "import os\n",
    "\n",
    "# XOR 加密函数\n",
    "def xor_encode(data, key):\n",
    "    return bytearray([b ^ key for b in data])\n",
    "\n",
    "# 加密音频文件\n",
    "def encode_audio(input_path, output_path, key=123):\n",
    "    with open(input_path, 'rb') as f:\n",
    "        audio_data = f.read()\n",
    "\n",
    "    # 对音频数据进行加密（编码）\n",
    "    encoded_data = xor_encode(audio_data, key)\n",
    "\n",
    "    # 写入加密后的音频文件\n",
    "    with open(output_path, 'wb') as f:\n",
    "        f.write(encoded_data)\n",
    "\n",
    "# 源文件路径列表\n",
    "chapters = [\n",
    "    (\"第一章：入门\", \"C:/test/shipin/chapter1.mp3\"),\n",
    "    (\"第二章：进阶\", \"C:/test/shipin/chapter2.mp3\"),\n",
    "    (\"第三章：高级\", \"C:/test/shipin/chapter3.mp3\"),\n",
    "    (\"第四章：专业技巧\", \"C:/test/shipin/chapter4.mp3\"),\n",
    "    (\"第五章：实战\", \"C:/test/shipin/chapter5.mp3\"),\n",
    "    (\"第六章：常见错误\", \"C:/test/shipin/chapter6.mp3\"),\n",
    "    (\"第七章：复习\", \"C:/test/shipin/chapter7.mp3\"),\n",
    "    (\"专门用语\", \"C:/test/shipin/chapter8.mp3\")\n",
    "]\n",
    "\n",
    "# 加密后的文件存储路径\n",
    "output_directory = \"C:/test/shipin/encoded/\"\n",
    "\n",
    "# 确保输出目录存在\n",
    "os.makedirs(output_directory, exist_ok=True)\n",
    "\n",
    "# 对每个音频文件进行加密\n",
    "for title, input_file in chapters:\n",
    "    output_file = os.path.join(output_directory, os.path.basename(input_file).replace(\".mp3\", \".dat\"))\n",
    "    encode_audio(input_file, output_file)\n",
    "    print(f\"{title} 已加密并保存为 {output_file}\")\n"
   ]
  }
 ],
 "metadata": {
  "kernelspec": {
   "display_name": "base",
   "language": "python",
   "name": "python3"
  },
  "language_info": {
   "codemirror_mode": {
    "name": "ipython",
    "version": 3
   },
   "file_extension": ".py",
   "mimetype": "text/x-python",
   "name": "python",
   "nbconvert_exporter": "python",
   "pygments_lexer": "ipython3",
   "version": "3.12.4"
  }
 },
 "nbformat": 4,
 "nbformat_minor": 2
}
